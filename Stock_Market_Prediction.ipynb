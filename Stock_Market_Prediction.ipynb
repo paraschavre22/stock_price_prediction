{
 "cells": [
  {
   "cell_type": "markdown",
   "metadata": {},
   "source": [
    "# TCS Stock Market Predictor"
   ]
  },
  {
   "cell_type": "markdown",
   "metadata": {},
   "source": [
    "# Data Processing"
   ]
  },
  {
   "cell_type": "code",
   "execution_count": 6,
   "metadata": {},
   "outputs": [],
   "source": [
    "import pandas as pd"
   ]
  },
  {
   "cell_type": "code",
   "execution_count": 7,
   "metadata": {},
   "outputs": [],
   "source": [
    "stocks = pd.read_csv(\"tcs.csv\")"
   ]
  },
  {
   "cell_type": "code",
   "execution_count": 9,
   "metadata": {},
   "outputs": [
    {
     "data": {
      "text/html": [
       "<div>\n",
       "<style scoped>\n",
       "    .dataframe tbody tr th:only-of-type {\n",
       "        vertical-align: middle;\n",
       "    }\n",
       "\n",
       "    .dataframe tbody tr th {\n",
       "        vertical-align: top;\n",
       "    }\n",
       "\n",
       "    .dataframe thead th {\n",
       "        text-align: right;\n",
       "    }\n",
       "</style>\n",
       "<table border=\"1\" class=\"dataframe\">\n",
       "  <thead>\n",
       "    <tr style=\"text-align: right;\">\n",
       "      <th></th>\n",
       "      <th>Date</th>\n",
       "      <th>Open</th>\n",
       "      <th>High</th>\n",
       "      <th>Low</th>\n",
       "      <th>Close</th>\n",
       "      <th>Adj Close</th>\n",
       "      <th>Volume</th>\n",
       "    </tr>\n",
       "  </thead>\n",
       "  <tbody>\n",
       "    <tr>\n",
       "      <th>0</th>\n",
       "      <td>06-01-20</td>\n",
       "      <td>2201.000000</td>\n",
       "      <td>2226.399902</td>\n",
       "      <td>2188.300049</td>\n",
       "      <td>2200.149902</td>\n",
       "      <td>2124.334961</td>\n",
       "      <td>84845.0</td>\n",
       "    </tr>\n",
       "    <tr>\n",
       "      <th>1</th>\n",
       "      <td>07-01-20</td>\n",
       "      <td>2201.000000</td>\n",
       "      <td>2214.800049</td>\n",
       "      <td>2184.000000</td>\n",
       "      <td>2205.149902</td>\n",
       "      <td>2129.162598</td>\n",
       "      <td>44109.0</td>\n",
       "    </tr>\n",
       "    <tr>\n",
       "      <th>2</th>\n",
       "      <td>08-01-20</td>\n",
       "      <td>2200.000000</td>\n",
       "      <td>2259.949951</td>\n",
       "      <td>2200.000000</td>\n",
       "      <td>2255.050049</td>\n",
       "      <td>2177.343018</td>\n",
       "      <td>109402.0</td>\n",
       "    </tr>\n",
       "    <tr>\n",
       "      <th>3</th>\n",
       "      <td>09-01-20</td>\n",
       "      <td>2251.050049</td>\n",
       "      <td>2251.050049</td>\n",
       "      <td>2210.449951</td>\n",
       "      <td>2216.000000</td>\n",
       "      <td>2139.638916</td>\n",
       "      <td>102267.0</td>\n",
       "    </tr>\n",
       "    <tr>\n",
       "      <th>4</th>\n",
       "      <td>10-01-20</td>\n",
       "      <td>2216.000000</td>\n",
       "      <td>2233.000000</td>\n",
       "      <td>2208.000000</td>\n",
       "      <td>2213.850098</td>\n",
       "      <td>2137.563232</td>\n",
       "      <td>118682.0</td>\n",
       "    </tr>\n",
       "  </tbody>\n",
       "</table>\n",
       "</div>"
      ],
      "text/plain": [
       "       Date         Open         High          Low        Close    Adj Close  \\\n",
       "0  06-01-20  2201.000000  2226.399902  2188.300049  2200.149902  2124.334961   \n",
       "1  07-01-20  2201.000000  2214.800049  2184.000000  2205.149902  2129.162598   \n",
       "2  08-01-20  2200.000000  2259.949951  2200.000000  2255.050049  2177.343018   \n",
       "3  09-01-20  2251.050049  2251.050049  2210.449951  2216.000000  2139.638916   \n",
       "4  10-01-20  2216.000000  2233.000000  2208.000000  2213.850098  2137.563232   \n",
       "\n",
       "     Volume  \n",
       "0   84845.0  \n",
       "1   44109.0  \n",
       "2  109402.0  \n",
       "3  102267.0  \n",
       "4  118682.0  "
      ]
     },
     "execution_count": 9,
     "metadata": {},
     "output_type": "execute_result"
    }
   ],
   "source": [
    "stocks.head()"
   ]
  },
  {
   "cell_type": "code",
   "execution_count": 10,
   "metadata": {},
   "outputs": [
    {
     "name": "stdout",
     "output_type": "stream",
     "text": [
      "<class 'pandas.core.frame.DataFrame'>\n",
      "RangeIndex: 600 entries, 0 to 599\n",
      "Data columns (total 7 columns):\n",
      "Date         600 non-null object\n",
      "Open         596 non-null float64\n",
      "High         596 non-null float64\n",
      "Low          596 non-null float64\n",
      "Close        596 non-null float64\n",
      "Adj Close    596 non-null float64\n",
      "Volume       596 non-null float64\n",
      "dtypes: float64(6), object(1)\n",
      "memory usage: 32.9+ KB\n"
     ]
    }
   ],
   "source": [
    "stocks.info()"
   ]
  },
  {
   "cell_type": "code",
   "execution_count": 12,
   "metadata": {},
   "outputs": [],
   "source": [
    "#Observe that their are missing values in data. \n",
    "#So, null values can be filled with the mean values using Imputation method.\n",
    "stocks = stocks.fillna(stocks.mean())"
   ]
  },
  {
   "cell_type": "code",
   "execution_count": 13,
   "metadata": {},
   "outputs": [],
   "source": [
    "stocks['Date'] = pd.to_datetime(stocks['Date']) #Converting the column to datetime format"
   ]
  },
  {
   "cell_type": "code",
   "execution_count": 14,
   "metadata": {},
   "outputs": [
    {
     "name": "stdout",
     "output_type": "stream",
     "text": [
      "<class 'pandas.core.frame.DataFrame'>\n",
      "RangeIndex: 600 entries, 0 to 599\n",
      "Data columns (total 7 columns):\n",
      "Date         600 non-null datetime64[ns]\n",
      "Open         600 non-null float64\n",
      "High         600 non-null float64\n",
      "Low          600 non-null float64\n",
      "Close        600 non-null float64\n",
      "Adj Close    600 non-null float64\n",
      "Volume       600 non-null float64\n",
      "dtypes: datetime64[ns](1), float64(6)\n",
      "memory usage: 32.9 KB\n"
     ]
    }
   ],
   "source": [
    "stocks.info()"
   ]
  },
  {
   "cell_type": "code",
   "execution_count": 15,
   "metadata": {},
   "outputs": [],
   "source": [
    "stocks.to_csv('tcs_data.csv', index=False)"
   ]
  },
  {
   "cell_type": "markdown",
   "metadata": {},
   "source": [
    "# Feature Engineering"
   ]
  },
  {
   "cell_type": "code",
   "execution_count": null,
   "metadata": {},
   "outputs": [],
   "source": []
  }
 ],
 "metadata": {
  "kernelspec": {
   "display_name": "Python 3",
   "language": "python",
   "name": "python3"
  },
  "language_info": {
   "codemirror_mode": {
    "name": "ipython",
    "version": 3
   },
   "file_extension": ".py",
   "mimetype": "text/x-python",
   "name": "python",
   "nbconvert_exporter": "python",
   "pygments_lexer": "ipython3",
   "version": "3.7.3"
  }
 },
 "nbformat": 4,
 "nbformat_minor": 2
}
